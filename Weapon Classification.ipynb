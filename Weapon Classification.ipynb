{
 "cells": [
  {
   "cell_type": "markdown",
   "metadata": {},
   "source": [
    "### Notebook Configuration"
   ]
  },
  {
   "cell_type": "code",
   "execution_count": 1,
   "metadata": {},
   "outputs": [],
   "source": [
    "import time\n",
    "import pandas as pd\n",
    "import numpy as np\n",
    "import matplotlib as mpl\n",
    "import matplotlib.pyplot as plt\n",
    "import seaborn as sns\n",
    "\n",
    "from sklearn.model_selection import train_test_split\n",
    "from sklearn.neighbors import KNeighborsClassifier\n",
    "from sklearn.metrics import accuracy_score"
   ]
  },
  {
   "cell_type": "code",
   "execution_count": 2,
   "metadata": {},
   "outputs": [],
   "source": [
    "# Display up to 150 rows and columns\n",
    "pd.set_option('display.max_rows', 150)\n",
    "pd.set_option('display.max_columns', 150)\n",
    "\n",
    "# Set the figure size for plots\n",
    "mpl.rcParams['figure.figsize'] = (14.6, 9.0)\n",
    "\n",
    "# Set the Seaborn default style for plots\n",
    "sns.set()\n",
    "\n",
    "# Set the color palette\n",
    "sns.set_palette(sns.color_palette(\"muted\"))"
   ]
  },
  {
   "cell_type": "markdown",
   "metadata": {},
   "source": [
    "### Load the Datasets\n",
    "Load the dataset created by the EDA notebook."
   ]
  },
  {
   "cell_type": "code",
   "execution_count": 3,
   "metadata": {},
   "outputs": [],
   "source": [
    "# Load the preprocessed GTD dataset\n",
    "gtd_df = pd.read_csv('../Data/gtd_eda_1997to2017.csv', low_memory=False, index_col = 0,\n",
    "                      na_values=[''])"
   ]
  },
  {
   "cell_type": "markdown",
   "metadata": {},
   "source": [
    "### Inspect the Structure\n",
    "The cleansed data frame contains 48 attributes, one of which is used for the data frame index, and 119,153 observations."
   ]
  },
  {
   "cell_type": "code",
   "execution_count": 4,
   "metadata": {},
   "outputs": [
    {
     "name": "stdout",
     "output_type": "stream",
     "text": [
      "<class 'pandas.core.frame.DataFrame'>\n",
      "Int64Index: 119153 entries, 199601000001 to 201712310032\n",
      "Data columns (total 48 columns):\n",
      "iyear               119153 non-null int64\n",
      "imonth              119153 non-null int64\n",
      "iday                119153 non-null int64\n",
      "country_txt         119153 non-null object\n",
      "region_txt          119153 non-null object\n",
      "provstate           119153 non-null object\n",
      "city                119153 non-null object\n",
      "latitude            119153 non-null float64\n",
      "longitude           119153 non-null float64\n",
      "specificity         119153 non-null float64\n",
      "summary             119153 non-null object\n",
      "attacktype1_txt     119153 non-null object\n",
      "targtype1_txt       119153 non-null object\n",
      "targsubtype1_txt    119153 non-null object\n",
      "corp1               119153 non-null object\n",
      "target1             119153 non-null object\n",
      "natlty1_txt         119153 non-null object\n",
      "gname               119153 non-null object\n",
      "nperpcap            119153 non-null float64\n",
      "weaptype1_txt       119153 non-null object\n",
      "weapsubtype1_txt    119153 non-null object\n",
      "nkill               119153 non-null float64\n",
      "nkillus             119153 non-null float64\n",
      "nkillter            119153 non-null float64\n",
      "nwound              119153 non-null float64\n",
      "nwoundus            119153 non-null float64\n",
      "nwoundte            119153 non-null float64\n",
      "scite1              119153 non-null object\n",
      "dbsource            119153 non-null object\n",
      "extended_txt        119153 non-null object\n",
      "vicinity_txt        119153 non-null object\n",
      "crit1_txt           119153 non-null object\n",
      "crit2_txt           119153 non-null object\n",
      "crit3_txt           119153 non-null object\n",
      "doubtterr_txt       119153 non-null object\n",
      "multiple_txt        119153 non-null object\n",
      "success_txt         119153 non-null object\n",
      "suicide_txt         119153 non-null object\n",
      "guncertain1_txt     119153 non-null object\n",
      "individual_txt      119153 non-null object\n",
      "claimed_txt         119153 non-null object\n",
      "property_txt        119153 non-null object\n",
      "ishostkid_txt       119153 non-null object\n",
      "INT_LOG_txt         119153 non-null object\n",
      "INT_IDEO_txt        119153 non-null object\n",
      "INT_MISC_txt        119153 non-null object\n",
      "INT_ANY_txt         119153 non-null object\n",
      "incident_date       119153 non-null object\n",
      "dtypes: float64(10), int64(3), object(35)\n",
      "memory usage: 44.5+ MB\n"
     ]
    }
   ],
   "source": [
    "# Display a summary of the data frame\n",
    "gtd_df.info(verbose = True)"
   ]
  },
  {
   "cell_type": "markdown",
   "metadata": {},
   "source": [
    "### Convert Attributes to Correct Data Type\n",
    "Convert a subset of the data frame attributes to categorical to align with the GTD code book as executed previously in the EDA notebook."
   ]
  },
  {
   "cell_type": "code",
   "execution_count": 5,
   "metadata": {},
   "outputs": [
    {
     "name": "stdout",
     "output_type": "stream",
     "text": [
      "<class 'pandas.core.frame.DataFrame'>\n",
      "Int64Index: 119153 entries, 199601000001 to 201712310032\n",
      "Data columns (total 48 columns):\n",
      "iyear               119153 non-null int64\n",
      "imonth              119153 non-null int64\n",
      "iday                119153 non-null int64\n",
      "country_txt         119153 non-null category\n",
      "region_txt          119153 non-null category\n",
      "provstate           119153 non-null object\n",
      "city                119153 non-null object\n",
      "latitude            119153 non-null float64\n",
      "longitude           119153 non-null float64\n",
      "specificity         119153 non-null category\n",
      "summary             119153 non-null object\n",
      "attacktype1_txt     119153 non-null category\n",
      "targtype1_txt       119153 non-null category\n",
      "targsubtype1_txt    119153 non-null category\n",
      "corp1               119153 non-null object\n",
      "target1             119153 non-null object\n",
      "natlty1_txt         119153 non-null category\n",
      "gname               119153 non-null object\n",
      "nperpcap            119153 non-null float64\n",
      "weaptype1_txt       119153 non-null category\n",
      "weapsubtype1_txt    119153 non-null category\n",
      "nkill               119153 non-null float64\n",
      "nkillus             119153 non-null float64\n",
      "nkillter            119153 non-null float64\n",
      "nwound              119153 non-null float64\n",
      "nwoundus            119153 non-null float64\n",
      "nwoundte            119153 non-null float64\n",
      "scite1              119153 non-null object\n",
      "dbsource            119153 non-null object\n",
      "extended_txt        119153 non-null category\n",
      "vicinity_txt        119153 non-null category\n",
      "crit1_txt           119153 non-null category\n",
      "crit2_txt           119153 non-null category\n",
      "crit3_txt           119153 non-null category\n",
      "doubtterr_txt       119153 non-null category\n",
      "multiple_txt        119153 non-null category\n",
      "success_txt         119153 non-null category\n",
      "suicide_txt         119153 non-null category\n",
      "guncertain1_txt     119153 non-null category\n",
      "individual_txt      119153 non-null category\n",
      "claimed_txt         119153 non-null category\n",
      "property_txt        119153 non-null category\n",
      "ishostkid_txt       119153 non-null category\n",
      "INT_LOG_txt         119153 non-null category\n",
      "INT_IDEO_txt        119153 non-null category\n",
      "INT_MISC_txt        119153 non-null category\n",
      "INT_ANY_txt         119153 non-null category\n",
      "incident_date       119153 non-null datetime64[ns]\n",
      "dtypes: category(27), datetime64[ns](1), float64(9), int64(3), object(8)\n",
      "memory usage: 23.3+ MB\n"
     ]
    }
   ],
   "source": [
    "# List of attributes that are categorical\n",
    "cat_attrs = ['extended_txt', 'country_txt', 'region_txt', 'specificity', 'vicinity_txt',\n",
    "             'crit1_txt', 'crit2_txt', 'crit3_txt', 'doubtterr_txt', 'multiple_txt',\n",
    "             'success_txt', 'suicide_txt', 'attacktype1_txt', 'targtype1_txt', \n",
    "             'targsubtype1_txt', 'natlty1_txt', 'guncertain1_txt', 'individual_txt', \n",
    "             'claimed_txt', 'weaptype1_txt', 'weapsubtype1_txt', 'property_txt', \n",
    "             'ishostkid_txt', 'INT_LOG_txt', 'INT_IDEO_txt','INT_MISC_txt', 'INT_ANY_txt']\n",
    "\n",
    "for cat in cat_attrs:\n",
    "    gtd_df[cat] = gtd_df[cat].astype('category')\n",
    "    \n",
    "\n",
    "# Data time feature added during EDA\n",
    "gtd_df['incident_date'] = pd.to_datetime(gtd_df['incident_date'])\n",
    "\n",
    "# To prevent a mixed data type\n",
    "gtd_df['gname'] = gtd_df['gname'].astype('str')\n",
    "\n",
    "gtd_df.info(verbose = True)"
   ]
  },
  {
   "cell_type": "markdown",
   "metadata": {},
   "source": [
    "### Create Training and Testing Datasets\n",
    "The original dataset is split into 80% training and 20% testing."
   ]
  },
  {
   "cell_type": "code",
   "execution_count": 6,
   "metadata": {},
   "outputs": [],
   "source": [
    "# Seed for reproducible results\n",
    "seed = 1009\n",
    "\n",
    "# Predictor variables with one hot encoding\n",
    "X = pd.get_dummies(gtd_df[['country_txt', 'region_txt', 'attacktype1_txt', 'nkill']], \n",
    "                   drop_first = True)\n",
    "\n",
    "# Labels\n",
    "y = gtd_df['weaptype1_txt']\n",
    "\n",
    "# Create an 80/20 split for training and testing data\n",
    "X_train, X_test, y_train, y_test = train_test_split(X, y, test_size = 0.2, random_state = seed, stratify = y)"
   ]
  },
  {
   "cell_type": "markdown",
   "metadata": {},
   "source": [
    "### KNN Classifier\n",
    "Create a KNN classifier using 12 neighbors."
   ]
  },
  {
   "cell_type": "code",
   "execution_count": 7,
   "metadata": {},
   "outputs": [
    {
     "name": "stdout",
     "output_type": "stream",
     "text": [
      "The KNN classifier parameter:\n",
      "\n",
      "KNeighborsClassifier(algorithm='auto', leaf_size=30, metric='minkowski',\n",
      "                     metric_params=None, n_jobs=None, n_neighbors=12, p=2,\n",
      "                     weights='uniform')\n",
      "\n",
      "Test set predictions:\n",
      " ['Explosives' 'Firearms' 'Explosives' ... 'Explosives' 'Explosives'\n",
      " 'Explosives']\n",
      "\n",
      "Accuracy Score: 88.52335193655323\n",
      "\n",
      "Execution Seconds: 253.28908801078796\n"
     ]
    }
   ],
   "source": [
    "start = time.time()\n",
    "\n",
    "# Create the classifier\n",
    "knn1 = KNeighborsClassifier(n_neighbors = 12)\n",
    "print(\"The KNN classifier parameter:\\n\")\n",
    "print(knn1)\n",
    "\n",
    "# Fit it using the training data\n",
    "knn1.fit(X_train, y_train)\n",
    "\n",
    "# Predict the lables using the test dataset\n",
    "pred_lables1 = knn1.predict(X_test)\n",
    "\n",
    "# Display a sample of the predictions\n",
    "print(\"\\nTest set predictions:\\n {}\".format(pred_lables1))\n",
    "\n",
    "# Calculate the accuracy\n",
    "score1 = accuracy_score(y_test, pred_lables1)\n",
    "print(\"\\nAccuracy Score: {}\".format(score1*100))\n",
    "\n",
    "end = time.time()\n",
    "print(\"\\nExecution Seconds: {}\".format((end - start)))"
   ]
  },
  {
   "cell_type": "markdown",
   "metadata": {},
   "source": [
    "### Find the Best K\n",
    "Iterate from 1 to 12 to find the best value for K."
   ]
  },
  {
   "cell_type": "code",
   "execution_count": null,
   "metadata": {},
   "outputs": [],
   "source": [
    "start = time.time()\n",
    "\n",
    "# Setup arrays to store train and test accuracies\n",
    "neighbors = np.arange(1, 12)\n",
    "train_accuracy = np.empty(len(neighbors))\n",
    "test_accuracy = np.empty(len(neighbors))\n",
    "\n",
    "# Loop over different values of k\n",
    "for i, k in enumerate(neighbors):\n",
    "    # Setup a k-NN Classifier with k neighbors: knn\n",
    "    knn2 = KNeighborsClassifier(n_neighbors=k)\n",
    "\n",
    "    # Fit the classifier to the training data\n",
    "    knn2.fit(X_train, y_train)\n",
    "    \n",
    "    #Compute accuracy on the training set\n",
    "    train_accuracy[i] = knn2.score(X_train, y_train)\n",
    "\n",
    "    #Compute accuracy on the testing set\n",
    "    test_accuracy[i] = knn2.score(X_test, y_test)\n",
    "\n",
    "\n",
    "end = time.time()\n",
    "print(\"Execution Seconds: {}\".format((end - start)))"
   ]
  },
  {
   "cell_type": "code",
   "execution_count": null,
   "metadata": {},
   "outputs": [],
   "source": []
  },
  {
   "cell_type": "code",
   "execution_count": null,
   "metadata": {},
   "outputs": [],
   "source": []
  },
  {
   "cell_type": "code",
   "execution_count": null,
   "metadata": {},
   "outputs": [],
   "source": []
  },
  {
   "cell_type": "code",
   "execution_count": null,
   "metadata": {},
   "outputs": [],
   "source": []
  },
  {
   "cell_type": "code",
   "execution_count": null,
   "metadata": {},
   "outputs": [],
   "source": []
  },
  {
   "cell_type": "code",
   "execution_count": null,
   "metadata": {},
   "outputs": [],
   "source": []
  },
  {
   "cell_type": "code",
   "execution_count": null,
   "metadata": {},
   "outputs": [],
   "source": []
  },
  {
   "cell_type": "code",
   "execution_count": null,
   "metadata": {},
   "outputs": [],
   "source": []
  },
  {
   "cell_type": "code",
   "execution_count": null,
   "metadata": {},
   "outputs": [],
   "source": []
  },
  {
   "cell_type": "code",
   "execution_count": null,
   "metadata": {},
   "outputs": [],
   "source": []
  },
  {
   "cell_type": "code",
   "execution_count": null,
   "metadata": {},
   "outputs": [],
   "source": []
  },
  {
   "cell_type": "code",
   "execution_count": null,
   "metadata": {},
   "outputs": [],
   "source": []
  },
  {
   "cell_type": "code",
   "execution_count": null,
   "metadata": {},
   "outputs": [],
   "source": []
  },
  {
   "cell_type": "code",
   "execution_count": null,
   "metadata": {},
   "outputs": [],
   "source": []
  },
  {
   "cell_type": "markdown",
   "metadata": {},
   "source": [
    "### Compare the Training and Testing Scores\n",
    "Plot each of the training and testing scores."
   ]
  },
  {
   "cell_type": "code",
   "execution_count": null,
   "metadata": {},
   "outputs": [],
   "source": [
    "# Generate plot\n",
    "plt.title('k-NN: Varying Number of Neighbors')\n",
    "plt.plot(neighbors, test_accuracy, label = 'Testing Accuracy')\n",
    "plt.plot(neighbors, train_accuracy, label = 'Training Accuracy')\n",
    "plt.legend()\n",
    "plt.xlabel('Number of Neighbors')\n",
    "plt.ylabel('Accuracy')\n",
    "plt.show()"
   ]
  },
  {
   "cell_type": "markdown",
   "metadata": {},
   "source": [
    "### KNN Classifier\n",
    "Create a KNN classifier using best K of 11 neighbors from the previous test."
   ]
  },
  {
   "cell_type": "code",
   "execution_count": null,
   "metadata": {},
   "outputs": [],
   "source": [
    "start = time.time()\n",
    "\n",
    "# Create the classifier\n",
    "knn3 = KNeighborsClassifier(n_neighbors = 11)\n",
    "print(\"The KNN classifier parameter:\\n\")\n",
    "print(knn3)\n",
    "\n",
    "# Fit it using the training data\n",
    "knn3.fit(X_train, y_train)\n",
    "\n",
    "# Predict the lables using the test dataset\n",
    "pred_lables3 = knn3.predict(X_test)\n",
    "\n",
    "# Calculate the accuracy\n",
    "score3 = accuracy_score(y_test, pred_lables3)\n",
    "print(\"\\nAccuracy: {}\".format(score3))\n",
    "\n",
    "end = time.time()\n",
    "print(\"\\nExecution Seconds: {}\".format((end - start)))"
   ]
  },
  {
   "cell_type": "code",
   "execution_count": null,
   "metadata": {},
   "outputs": [],
   "source": []
  }
 ],
 "metadata": {
  "kernelspec": {
   "display_name": "Python 3",
   "language": "python",
   "name": "python3"
  },
  "language_info": {
   "codemirror_mode": {
    "name": "ipython",
    "version": 3
   },
   "file_extension": ".py",
   "mimetype": "text/x-python",
   "name": "python",
   "nbconvert_exporter": "python",
   "pygments_lexer": "ipython3",
   "version": "3.7.4"
  }
 },
 "nbformat": 4,
 "nbformat_minor": 2
}
